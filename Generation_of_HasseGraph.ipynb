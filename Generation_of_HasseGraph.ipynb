{
 "cells": [
  {
   "cell_type": "code",
   "execution_count": 1,
   "metadata": {
    "collapsed": true
   },
   "outputs": [],
   "source": [
    "import numpy as np\n",
    "import math"
   ]
  },
  {
   "cell_type": "markdown",
   "metadata": {},
   "source": [
    "### Functions and Classes"
   ]
  },
  {
   "cell_type": "code",
   "execution_count": 2,
   "metadata": {},
   "outputs": [],
   "source": [
    "class index(object):\n",
    "    def __init__(self, index_dec):\n",
    "        self.dec = index_dec + 1\n",
    "        self.bin = np.array([int(i) for i in str(bin(index_dec))[2:].zfill(n)])\n",
    "        self.inmethod= []\n",
    "        self.indegree = 0"
   ]
  },
  {
   "cell_type": "code",
   "execution_count": 3,
   "metadata": {
    "collapsed": true
   },
   "outputs": [],
   "source": [
    "def IsLeftSwap(latter, former):\n",
    "    dif = latter.bin - former.bin\n",
    "    dif = list(dif)\n",
    "    if 1 in dif and -1 in dif:\n",
    "        ip1 = dif.index(1)\n",
    "        in1 = dif.index(-1)\n",
    "        if ip1 == in1 - 1:\n",
    "            dif.pop(ip1)\n",
    "            dif.pop(ip1)\n",
    "            if not (1 in dif or -1 in dif):\n",
    "                return True\n",
    "    return False"
   ]
  },
  {
   "cell_type": "code",
   "execution_count": 4,
   "metadata": {
    "collapsed": true
   },
   "outputs": [],
   "source": [
    "def IsAddOne(latter, former):\n",
    "    dif = latter.bin - former.bin\n",
    "    dif = list(dif)\n",
    "    if 1 in dif:\n",
    "        ip1 = dif.index(1)\n",
    "        dif.pop(ip1)\n",
    "        if not (1 in dif or -1 in dif):\n",
    "            return True\n",
    "    return False"
   ]
  },
  {
   "cell_type": "code",
   "execution_count": 5,
   "metadata": {
    "collapsed": true
   },
   "outputs": [],
   "source": [
    "def SortKey(a):\n",
    "    return int(''.join([str(i) for i in a.inmethod]))"
   ]
  },
  {
   "cell_type": "markdown",
   "metadata": {},
   "source": [
    "### Generate Hasse Graph"
   ]
  },
  {
   "cell_type": "code",
   "execution_count": 13,
   "metadata": {
    "collapsed": true
   },
   "outputs": [],
   "source": [
    "n = 10\n",
    "N = 2**n\n",
    "A = int((6/math.pi)**0.5*2**n/n**1.5)"
   ]
  },
  {
   "cell_type": "code",
   "execution_count": 14,
   "metadata": {
    "collapsed": true
   },
   "outputs": [],
   "source": [
    "Nindex = [index(i) for i in range(N)]\n",
    "res = [[Nindex[0]]]\n",
    "\n",
    "# Generate Layers\n",
    "for i in Nindex[1:]:\n",
    "    tmp = []\n",
    "    for j in range(len(res)):\n",
    "        for k in res[-1-j]:\n",
    "            if IsLeftSwap(i,k):\n",
    "                tmp.append(1)\n",
    "            elif IsAddOne(i,k):\n",
    "                tmp.append(2)\n",
    "        if tmp:\n",
    "            if j == 0:\n",
    "                res.append([i])\n",
    "            else:\n",
    "                res[-j].append(i)\n",
    "            break\n",
    "        else:\n",
    "            i.trans = []\n",
    "\n",
    "# Sort the Layers\n",
    "for i in range(1, len(res)):\n",
    "    for j in res[i]:\n",
    "        for k in res[i-1]:\n",
    "            if IsLeftSwap(j,k):\n",
    "                j.inmethod.append(1)\n",
    "                j.indegree += 1\n",
    "            elif IsAddOne(j,k):\n",
    "                j.inmethod.append(2)\n",
    "                j.indegree += 1\n",
    "            else:\n",
    "                j.inmethod.append(9)\n",
    "    res[i] = sorted(res[i], key=SortKey)"
   ]
  },
  {
   "cell_type": "code",
   "execution_count": 8,
   "metadata": {
    "collapsed": true
   },
   "outputs": [],
   "source": [
    "# Fill the Layers with None\n",
    "A = len(res[int(len(res)/2)])\n",
    "\n",
    "for i in range(len(res)):\n",
    "    if len(res[i]) < A:\n",
    "        if i < int(len(res)/2):\n",
    "            res[i] = res[i] + [None]*(A-len(res[i]))\n",
    "        else:\n",
    "            res[i] = [None]*(A-len(res[i])) + res[i]"
   ]
  },
  {
   "cell_type": "code",
   "execution_count": 9,
   "metadata": {
    "collapsed": true
   },
   "outputs": [],
   "source": [
    "res_np = np.array(res).T"
   ]
  },
  {
   "cell_type": "markdown",
   "metadata": {},
   "source": [
    "### Test Hasse Graph"
   ]
  },
  {
   "cell_type": "code",
   "execution_count": 10,
   "metadata": {
    "collapsed": true
   },
   "outputs": [],
   "source": [
    "for i in range(len(res)):\n",
    "    dif = len(res[i]) - len(res[-1-i])\n",
    "    if not dif == 0:\n",
    "        print(dif)"
   ]
  },
  {
   "cell_type": "code",
   "execution_count": 11,
   "metadata": {},
   "outputs": [
    {
     "data": {
      "text/plain": [
       "array([[<__main__.index object at 0x10e723da0>,\n",
       "        <__main__.index object at 0x10e723e10>,\n",
       "        <__main__.index object at 0x10e723eb8>,\n",
       "        <__main__.index object at 0x10e723f28>, None, None, None],\n",
       "       [None, None, None, <__main__.index object at 0x10e723ef0>,\n",
       "        <__main__.index object at 0x10e723dd8>,\n",
       "        <__main__.index object at 0x10e723f60>,\n",
       "        <__main__.index object at 0x10e723f98>]], dtype=object)"
      ]
     },
     "execution_count": 11,
     "metadata": {},
     "output_type": "execute_result"
    }
   ],
   "source": [
    "res_np"
   ]
  },
  {
   "cell_type": "code",
   "execution_count": null,
   "metadata": {
    "collapsed": true
   },
   "outputs": [],
   "source": []
  }
 ],
 "metadata": {
  "kernelspec": {
   "display_name": "Python 3",
   "language": "python",
   "name": "python3"
  },
  "language_info": {
   "codemirror_mode": {
    "name": "ipython",
    "version": 3
   },
   "file_extension": ".py",
   "mimetype": "text/x-python",
   "name": "python",
   "nbconvert_exporter": "python",
   "pygments_lexer": "ipython3",
   "version": "3.6.3"
  }
 },
 "nbformat": 4,
 "nbformat_minor": 2
}
