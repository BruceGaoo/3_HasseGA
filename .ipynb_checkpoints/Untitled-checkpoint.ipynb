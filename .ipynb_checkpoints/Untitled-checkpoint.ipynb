{
 "cells": [
  {
   "cell_type": "code",
   "execution_count": 1,
   "metadata": {
    "collapsed": true
   },
   "outputs": [],
   "source": [
    "import numpy as np\n",
    "import pandas as pd"
   ]
  },
  {
   "cell_type": "code",
   "execution_count": 21,
   "metadata": {
    "collapsed": true
   },
   "outputs": [],
   "source": [
    "def GeneratePW(n):\n",
    "    N = 2**n\n",
    "    Nbin = [[int(i) for i in str(bin(i))[2:].zfill(n)] for i in range(N)]\n",
    "    PW = []\n",
    "    for i in range(N):\n",
    "        tmp = 0\n",
    "        for j in range(n):\n",
    "            tmp += Nbin[i][n-j-1]*2**(j/4)\n",
    "        PW.append([i+1,tmp])\n",
    "    PW.sort(key = lambda x: x[1])\n",
    "    PWindex = [i[0] for i in PW]\n",
    "    return PWindex"
   ]
  },
  {
   "cell_type": "code",
   "execution_count": 37,
   "metadata": {
    "collapsed": true
   },
   "outputs": [],
   "source": [
    "def GeneratePWGuide(n):\n",
    "    N = 2**n\n",
    "    PW = GeneratePW(n)\n",
    "    PWGuide = []\n",
    "    for i in PW:\n",
    "        if i <= N/2:\n",
    "            PWGuide.append(0)\n",
    "        else:\n",
    "            PWGuide.append(1)\n",
    "    return PWGuide"
   ]
  },
  {
   "cell_type": "code",
   "execution_count": 42,
   "metadata": {},
   "outputs": [],
   "source": [
    "n = 4\n",
    "pwguide = GeneratePWGuide(n)"
   ]
  },
  {
   "cell_type": "code",
   "execution_count": 43,
   "metadata": {},
   "outputs": [
    {
     "data": {
      "text/plain": [
       "[0, 0, 0, 0, 1, 0, 0, 0, 1, 1, 1, 0, 1, 1, 1, 1]"
      ]
     },
     "execution_count": 43,
     "metadata": {},
     "output_type": "execute_result"
    }
   ],
   "source": [
    "pwguide"
   ]
  },
  {
   "cell_type": "code",
   "execution_count": null,
   "metadata": {
    "collapsed": true
   },
   "outputs": [],
   "source": []
  }
 ],
 "metadata": {
  "kernelspec": {
   "display_name": "Python 3",
   "language": "python",
   "name": "python3"
  },
  "language_info": {
   "codemirror_mode": {
    "name": "ipython",
    "version": 3
   },
   "file_extension": ".py",
   "mimetype": "text/x-python",
   "name": "python",
   "nbconvert_exporter": "python",
   "pygments_lexer": "ipython3",
   "version": "3.6.3"
  }
 },
 "nbformat": 4,
 "nbformat_minor": 2
}
